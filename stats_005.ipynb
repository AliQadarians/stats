{
 "cells": [
  {
   "cell_type": "code",
   "execution_count": 1,
   "id": "3940f66f",
   "metadata": {},
   "outputs": [],
   "source": [
    "import pandas as pd\n",
    "import numpy as np\n",
    "import scipy as sc\n",
    "import scipy.stats as st\n",
    "import seaborn as sns\n",
    "import matplotlib.pyplot as plt\n",
    "from scipy.stats import entropy"
   ]
  },
  {
   "cell_type": "code",
   "execution_count": 2,
   "id": "9403aa07",
   "metadata": {},
   "outputs": [],
   "source": [
    "def js(p,q):\n",
    "    p1 = p / np.linalg.norm(p,ord=1)\n",
    "    q1 = q / np.linalg.norm(q,ord=1)\n",
    "    m = 0.5 * (p+q)\n",
    "    r = 0.5 * (st.entropy(p1,m)) + st.entropy(q1,m)\n",
    "    return r"
   ]
  },
  {
   "cell_type": "code",
   "execution_count": 3,
   "id": "e872c93c",
   "metadata": {},
   "outputs": [
    {
     "data": {
      "text/html": [
       "<div>\n",
       "<style scoped>\n",
       "    .dataframe tbody tr th:only-of-type {\n",
       "        vertical-align: middle;\n",
       "    }\n",
       "\n",
       "    .dataframe tbody tr th {\n",
       "        vertical-align: top;\n",
       "    }\n",
       "\n",
       "    .dataframe thead th {\n",
       "        text-align: right;\n",
       "    }\n",
       "</style>\n",
       "<table border=\"1\" class=\"dataframe\">\n",
       "  <thead>\n",
       "    <tr style=\"text-align: right;\">\n",
       "      <th></th>\n",
       "      <th>Gender</th>\n",
       "      <th>Height</th>\n",
       "      <th>Weight</th>\n",
       "    </tr>\n",
       "  </thead>\n",
       "  <tbody>\n",
       "    <tr>\n",
       "      <th>0</th>\n",
       "      <td>Male</td>\n",
       "      <td>73.847017</td>\n",
       "      <td>241.893563</td>\n",
       "    </tr>\n",
       "    <tr>\n",
       "      <th>1</th>\n",
       "      <td>Male</td>\n",
       "      <td>68.781904</td>\n",
       "      <td>162.310473</td>\n",
       "    </tr>\n",
       "    <tr>\n",
       "      <th>2</th>\n",
       "      <td>Male</td>\n",
       "      <td>74.110105</td>\n",
       "      <td>212.740856</td>\n",
       "    </tr>\n",
       "    <tr>\n",
       "      <th>3</th>\n",
       "      <td>Male</td>\n",
       "      <td>71.730978</td>\n",
       "      <td>220.042470</td>\n",
       "    </tr>\n",
       "    <tr>\n",
       "      <th>4</th>\n",
       "      <td>Male</td>\n",
       "      <td>69.881796</td>\n",
       "      <td>206.349801</td>\n",
       "    </tr>\n",
       "    <tr>\n",
       "      <th>5</th>\n",
       "      <td>Male</td>\n",
       "      <td>67.253016</td>\n",
       "      <td>152.212156</td>\n",
       "    </tr>\n",
       "    <tr>\n",
       "      <th>6</th>\n",
       "      <td>Male</td>\n",
       "      <td>68.785081</td>\n",
       "      <td>183.927889</td>\n",
       "    </tr>\n",
       "    <tr>\n",
       "      <th>7</th>\n",
       "      <td>Male</td>\n",
       "      <td>68.348516</td>\n",
       "      <td>167.971110</td>\n",
       "    </tr>\n",
       "    <tr>\n",
       "      <th>8</th>\n",
       "      <td>Male</td>\n",
       "      <td>67.018950</td>\n",
       "      <td>175.929440</td>\n",
       "    </tr>\n",
       "    <tr>\n",
       "      <th>9</th>\n",
       "      <td>Male</td>\n",
       "      <td>63.456494</td>\n",
       "      <td>156.399676</td>\n",
       "    </tr>\n",
       "  </tbody>\n",
       "</table>\n",
       "</div>"
      ],
      "text/plain": [
       "  Gender     Height      Weight\n",
       "0   Male  73.847017  241.893563\n",
       "1   Male  68.781904  162.310473\n",
       "2   Male  74.110105  212.740856\n",
       "3   Male  71.730978  220.042470\n",
       "4   Male  69.881796  206.349801\n",
       "5   Male  67.253016  152.212156\n",
       "6   Male  68.785081  183.927889\n",
       "7   Male  68.348516  167.971110\n",
       "8   Male  67.018950  175.929440\n",
       "9   Male  63.456494  156.399676"
      ]
     },
     "execution_count": 3,
     "metadata": {},
     "output_type": "execute_result"
    }
   ],
   "source": [
    "whData = pd.read_csv('weight-height.csv')\n",
    "whData.head(10)"
   ]
  },
  {
   "cell_type": "code",
   "execution_count": 4,
   "id": "16b0cd78",
   "metadata": {},
   "outputs": [
    {
     "data": {
      "text/plain": [
       "100.0"
      ]
     },
     "execution_count": 4,
     "metadata": {},
     "output_type": "execute_result"
    }
   ],
   "source": [
    "count, devision = np.histogram(whData['Height'],\n",
    "                               bins=100)\n",
    "count.mean()\n",
    "\n"
   ]
  },
  {
   "cell_type": "code",
   "execution_count": 5,
   "id": "038b19af",
   "metadata": {},
   "outputs": [
    {
     "data": {
      "text/plain": [
       "100.0"
      ]
     },
     "execution_count": 5,
     "metadata": {},
     "output_type": "execute_result"
    }
   ],
   "source": [
    "norm = st.norm.rvs(size = len(whData['Height']),\n",
    "                         loc = whData['Height'].mean(),\n",
    "                         scale = whData['Height'].std())\n",
    "icount, idevsion = np.histogram(norm,\n",
    "                                bins=100)\n",
    "icount.mean()"
   ]
  },
  {
   "cell_type": "code",
   "execution_count": 6,
   "id": "0955610a",
   "metadata": {},
   "outputs": [],
   "source": [
    "count = count / np.sum(count)\n"
   ]
  },
  {
   "cell_type": "code",
   "execution_count": 7,
   "id": "960d462a",
   "metadata": {},
   "outputs": [
    {
     "name": "stdout",
     "output_type": "stream",
     "text": [
      "[0.0001 0.0001 0.0001 0.0001 0.0001 0.0003 0.0002 0.0007 0.0001 0.0005\n",
      " 0.0013 0.0011 0.0011 0.0011 0.002  0.0021 0.0024 0.0035 0.0032 0.004\n",
      " 0.0045 0.0046 0.0068 0.0086 0.0077 0.0109 0.0113 0.0108 0.0121 0.0153\n",
      " 0.0155 0.0163 0.0185 0.0177 0.019  0.0192 0.0198 0.0185 0.0235 0.0226\n",
      " 0.019  0.0233 0.0231 0.0233 0.023  0.0191 0.0231 0.0201 0.0252 0.0204\n",
      " 0.0227 0.0212 0.0211 0.0243 0.0215 0.0224 0.0228 0.0213 0.0172 0.0222\n",
      " 0.0209 0.0197 0.0181 0.0162 0.0142 0.0176 0.0136 0.0145 0.013  0.0134\n",
      " 0.0139 0.0106 0.0111 0.0086 0.0068 0.0057 0.0056 0.0047 0.0052 0.0043\n",
      " 0.0033 0.0031 0.0024 0.0017 0.0015 0.0009 0.0011 0.0012 0.0003 0.0008\n",
      " 0.0008 0.0005 0.0003 0.0002 0.0001 0.     0.0001 0.0001 0.0002 0.0001]\n"
     ]
    }
   ],
   "source": [
    "print(count)"
   ]
  },
  {
   "cell_type": "code",
   "execution_count": 8,
   "id": "1e657dd9",
   "metadata": {},
   "outputs": [
    {
     "name": "stdout",
     "output_type": "stream",
     "text": [
      "[0.0001 0.     0.0002 0.     0.0003 0.0002 0.0004 0.0003 0.0008 0.0006\n",
      " 0.0001 0.001  0.0012 0.0012 0.0016 0.0019 0.0024 0.0033 0.0032 0.003\n",
      " 0.0066 0.0054 0.006  0.0081 0.0095 0.0088 0.0111 0.0124 0.0157 0.0145\n",
      " 0.0174 0.0151 0.0195 0.0227 0.0212 0.0246 0.0282 0.0283 0.0286 0.0263\n",
      " 0.0281 0.027  0.0306 0.0318 0.0313 0.0302 0.0299 0.0315 0.032  0.0308\n",
      " 0.0284 0.0269 0.0273 0.0279 0.0217 0.0238 0.0205 0.0201 0.0178 0.014\n",
      " 0.0153 0.0116 0.0137 0.0117 0.01   0.0077 0.0066 0.0078 0.005  0.0047\n",
      " 0.0035 0.0037 0.0025 0.0026 0.0024 0.0018 0.0007 0.0006 0.0009 0.0007\n",
      " 0.0009 0.0005 0.0001 0.0002 0.0005 0.0002 0.0003 0.0001 0.0001 0.\n",
      " 0.     0.0001 0.     0.     0.     0.     0.     0.     0.     0.0001]\n"
     ]
    }
   ],
   "source": [
    "icount = icount / np.sum(icount)\n",
    "print(icount)"
   ]
  },
  {
   "cell_type": "code",
   "execution_count": 9,
   "id": "60d7f1f8",
   "metadata": {},
   "outputs": [
    {
     "name": "stderr",
     "output_type": "stream",
     "text": [
      "No artists with labels found to put in legend.  Note that artists whose label start with an underscore are ignored when legend() is called with no argument.\n"
     ]
    },
    {
     "data": {
      "image/png": "[encoded data removed]",
      "text/plain": [
       "<Figure size 432x288 with 1 Axes>"
      ]
     },
     "metadata": {
      "needs_background": "light"
     },
     "output_type": "display_data"
    }
   ],
   "source": [
    "plt.plot(count,\n",
    "            color='red')\n",
    "plt.plot(icount,\n",
    "            color='blue')\n",
    "plt.legend()\n",
    "plt.show()"
   ]
  },
  {
   "cell_type": "code",
   "execution_count": 10,
   "id": "a0507a9c",
   "metadata": {},
   "outputs": [
    {
     "data": {
      "text/plain": [
       "0.04041362545916609"
      ]
     },
     "execution_count": 10,
     "metadata": {},
     "output_type": "execute_result"
    }
   ],
   "source": [
    "js(count,icount)\n"
   ]
  },
  {
   "cell_type": "code",
   "execution_count": 11,
   "id": "da2ae655",
   "metadata": {},
   "outputs": [
    {
     "data": {
      "text/plain": [
       "0.03668914226076886"
      ]
     },
     "execution_count": 11,
     "metadata": {},
     "output_type": "execute_result"
    }
   ],
   "source": [
    "js(icount,count)"
   ]
  },
  {
   "cell_type": "code",
   "execution_count": 12,
   "id": "68f47c87",
   "metadata": {},
   "outputs": [
    {
     "data": {
      "text/html": [
       "<div>\n",
       "<style scoped>\n",
       "    .dataframe tbody tr th:only-of-type {\n",
       "        vertical-align: middle;\n",
       "    }\n",
       "\n",
       "    .dataframe tbody tr th {\n",
       "        vertical-align: top;\n",
       "    }\n",
       "\n",
       "    .dataframe thead th {\n",
       "        text-align: right;\n",
       "    }\n",
       "</style>\n",
       "<table border=\"1\" class=\"dataframe\">\n",
       "  <thead>\n",
       "    <tr style=\"text-align: right;\">\n",
       "      <th></th>\n",
       "      <th>10 Min Std Dev</th>\n",
       "      <th>Time</th>\n",
       "      <th>10 Min Sampled Avg</th>\n",
       "    </tr>\n",
       "  </thead>\n",
       "  <tbody>\n",
       "    <tr>\n",
       "      <th>0</th>\n",
       "      <td>2.73</td>\n",
       "      <td>2001-06-11 11:00</td>\n",
       "      <td>22.3</td>\n",
       "    </tr>\n",
       "    <tr>\n",
       "      <th>1</th>\n",
       "      <td>1.98</td>\n",
       "      <td>2001-06-11 11:10</td>\n",
       "      <td>23.0</td>\n",
       "    </tr>\n",
       "    <tr>\n",
       "      <th>2</th>\n",
       "      <td>1.87</td>\n",
       "      <td>2001-06-11 11:20</td>\n",
       "      <td>23.3</td>\n",
       "    </tr>\n",
       "    <tr>\n",
       "      <th>3</th>\n",
       "      <td>2.03</td>\n",
       "      <td>2001-06-11 11:30</td>\n",
       "      <td>22.0</td>\n",
       "    </tr>\n",
       "    <tr>\n",
       "      <th>4</th>\n",
       "      <td>3.10</td>\n",
       "      <td>2001-06-11 11:40</td>\n",
       "      <td>20.5</td>\n",
       "    </tr>\n",
       "    <tr>\n",
       "      <th>5</th>\n",
       "      <td>2.30</td>\n",
       "      <td>2001-06-11 11:50</td>\n",
       "      <td>25.2</td>\n",
       "    </tr>\n",
       "    <tr>\n",
       "      <th>6</th>\n",
       "      <td>2.46</td>\n",
       "      <td>2001-06-11 12:00</td>\n",
       "      <td>24.8</td>\n",
       "    </tr>\n",
       "    <tr>\n",
       "      <th>7</th>\n",
       "      <td>1.87</td>\n",
       "      <td>2001-06-11 12:10</td>\n",
       "      <td>24.0</td>\n",
       "    </tr>\n",
       "    <tr>\n",
       "      <th>8</th>\n",
       "      <td>1.71</td>\n",
       "      <td>2001-06-11 12:20</td>\n",
       "      <td>22.9</td>\n",
       "    </tr>\n",
       "    <tr>\n",
       "      <th>9</th>\n",
       "      <td>1.76</td>\n",
       "      <td>2001-06-11 12:30</td>\n",
       "      <td>17.9</td>\n",
       "    </tr>\n",
       "  </tbody>\n",
       "</table>\n",
       "</div>"
      ],
      "text/plain": [
       "   10 Min Std Dev              Time  10 Min Sampled Avg\n",
       "0            2.73  2001-06-11 11:00                22.3\n",
       "1            1.98  2001-06-11 11:10                23.0\n",
       "2            1.87  2001-06-11 11:20                23.3\n",
       "3            2.03  2001-06-11 11:30                22.0\n",
       "4            3.10  2001-06-11 11:40                20.5\n",
       "5            2.30  2001-06-11 11:50                25.2\n",
       "6            2.46  2001-06-11 12:00                24.8\n",
       "7            1.87  2001-06-11 12:10                24.0\n",
       "8            1.71  2001-06-11 12:20                22.9\n",
       "9            1.76  2001-06-11 12:30                17.9"
      ]
     },
     "execution_count": 12,
     "metadata": {},
     "output_type": "execute_result"
    }
   ],
   "source": [
    "wsData = pd.read_csv('wind_speed_laurel_nebraska.csv')\n",
    "wsData.head(10)"
   ]
  },
  {
   "cell_type": "code",
   "execution_count": 13,
   "id": "40ee3b5d",
   "metadata": {},
   "outputs": [],
   "source": [
    "count, devision = np.histogram(wsData['10 Min Sampled Avg'],\n",
    "                               bins=100)"
   ]
  },
  {
   "cell_type": "code",
   "execution_count": 14,
   "id": "dc5295b4",
   "metadata": {},
   "outputs": [],
   "source": [
    "ideal = st.norm.rvs(size=len(wsData['10 Min Sampled Avg']),\n",
    "                    loc=wsData['10 Min Sampled Avg'].mean(),\n",
    "                    scale=wsData['10 Min Sampled Avg'].std())\n",
    "icount, idevision = np.histogram(ideal,\n",
    "                                 bins=100)"
   ]
  },
  {
   "cell_type": "code",
   "execution_count": 15,
   "id": "41be6ee2",
   "metadata": {},
   "outputs": [
    {
     "data": {
      "text/plain": [
       "0.2862660077936213"
      ]
     },
     "execution_count": 15,
     "metadata": {},
     "output_type": "execute_result"
    }
   ],
   "source": [
    "js(count,icount)"
   ]
  },
  {
   "cell_type": "code",
   "execution_count": 16,
   "id": "840345b9",
   "metadata": {},
   "outputs": [
    {
     "data": {
      "text/plain": [
       "(array([ 1.,  0.,  1.,  0.,  0.,  0.,  0.,  0.,  1.,  0.,  1.,  1.,  0.,\n",
       "         3.,  2.,  1.,  2.,  0.,  1.,  0.,  1.,  0.,  0.,  3.,  2.,  3.,\n",
       "         5.,  1.,  1.,  1.,  2.,  1.,  4.,  3.,  3., 11.,  6., 11.,  3.,\n",
       "         9.,  4.,  1.,  6.,  4.,  4.,  3.,  5.,  1.,  4.,  3.,  1.,  3.,\n",
       "         1.,  1.,  1.,  2.,  2.,  1.,  4.,  2.,  2.,  4.,  4.,  1.,  3.,\n",
       "         2.,  2.,  1.,  3.,  0.,  6.,  7.,  1.,  5.,  5.,  2.,  3.,  1.,\n",
       "         7.,  6.,  0.,  3.,  2.,  1.,  3.,  2.,  2.,  0.,  0.,  1.,  1.,\n",
       "         1.,  0.,  1.,  0.,  0.,  0.,  0.,  0.,  2.]),\n",
       " array([ 4.9  ,  5.178,  5.456,  5.734,  6.012,  6.29 ,  6.568,  6.846,\n",
       "         7.124,  7.402,  7.68 ,  7.958,  8.236,  8.514,  8.792,  9.07 ,\n",
       "         9.348,  9.626,  9.904, 10.182, 10.46 , 10.738, 11.016, 11.294,\n",
       "        11.572, 11.85 , 12.128, 12.406, 12.684, 12.962, 13.24 , 13.518,\n",
       "        13.796, 14.074, 14.352, 14.63 , 14.908, 15.186, 15.464, 15.742,\n",
       "        16.02 , 16.298, 16.576, 16.854, 17.132, 17.41 , 17.688, 17.966,\n",
       "        18.244, 18.522, 18.8  , 19.078, 19.356, 19.634, 19.912, 20.19 ,\n",
       "        20.468, 20.746, 21.024, 21.302, 21.58 , 21.858, 22.136, 22.414,\n",
       "        22.692, 22.97 , 23.248, 23.526, 23.804, 24.082, 24.36 , 24.638,\n",
       "        24.916, 25.194, 25.472, 25.75 , 26.028, 26.306, 26.584, 26.862,\n",
       "        27.14 , 27.418, 27.696, 27.974, 28.252, 28.53 , 28.808, 29.086,\n",
       "        29.364, 29.642, 29.92 , 30.198, 30.476, 30.754, 31.032, 31.31 ,\n",
       "        31.588, 31.866, 32.144, 32.422, 32.7  ]),\n",
       " <BarContainer object of 100 artists>)"
      ]
     },
     "execution_count": 16,
     "metadata": {},
     "output_type": "execute_result"
    },
    {
     "data": {
      "image/png": "[encoded data removed]",
      "text/plain": [
       "<Figure size 432x288 with 1 Axes>"
      ]
     },
     "metadata": {
      "needs_background": "light"
     },
     "output_type": "display_data"
    }
   ],
   "source": [
    "plt.hist(wsData['10 Min Sampled Avg'],bins=100)"
   ]
  },
  {
   "cell_type": "code",
   "execution_count": 17,
   "id": "79633933",
   "metadata": {},
   "outputs": [
    {
     "data": {
      "text/plain": [
       "0.4342229004920049"
      ]
     },
     "execution_count": 17,
     "metadata": {},
     "output_type": "execute_result"
    }
   ],
   "source": [
    "sc.spatial.distance.jensenshannon(count,icount)"
   ]
  },
  {
   "cell_type": "code",
   "execution_count": 18,
   "id": "516fd97d",
   "metadata": {},
   "outputs": [
    {
     "data": {
      "text/html": [
       "<div>\n",
       "<style scoped>\n",
       "    .dataframe tbody tr th:only-of-type {\n",
       "        vertical-align: middle;\n",
       "    }\n",
       "\n",
       "    .dataframe tbody tr th {\n",
       "        vertical-align: top;\n",
       "    }\n",
       "\n",
       "    .dataframe thead th {\n",
       "        text-align: right;\n",
       "    }\n",
       "</style>\n",
       "<table border=\"1\" class=\"dataframe\">\n",
       "  <thead>\n",
       "    <tr style=\"text-align: right;\">\n",
       "      <th></th>\n",
       "      <th>date</th>\n",
       "      <th>home_team</th>\n",
       "      <th>away_team</th>\n",
       "      <th>home_score</th>\n",
       "      <th>away_score</th>\n",
       "      <th>tournament</th>\n",
       "      <th>city</th>\n",
       "      <th>country</th>\n",
       "      <th>neutral</th>\n",
       "    </tr>\n",
       "  </thead>\n",
       "  <tbody>\n",
       "    <tr>\n",
       "      <th>41630</th>\n",
       "      <td>2020-09-07</td>\n",
       "      <td>Albania</td>\n",
       "      <td>Lithuania</td>\n",
       "      <td>0</td>\n",
       "      <td>1</td>\n",
       "      <td>UEFA Nations League</td>\n",
       "      <td>Tirana</td>\n",
       "      <td>Albania</td>\n",
       "      <td>False</td>\n",
       "    </tr>\n",
       "    <tr>\n",
       "      <th>41631</th>\n",
       "      <td>2020-09-08</td>\n",
       "      <td>Belgium</td>\n",
       "      <td>Iceland</td>\n",
       "      <td>5</td>\n",
       "      <td>1</td>\n",
       "      <td>UEFA Nations League</td>\n",
       "      <td>Brussels</td>\n",
       "      <td>Belgium</td>\n",
       "      <td>False</td>\n",
       "    </tr>\n",
       "    <tr>\n",
       "      <th>41632</th>\n",
       "      <td>2020-09-08</td>\n",
       "      <td>Denmark</td>\n",
       "      <td>England</td>\n",
       "      <td>0</td>\n",
       "      <td>0</td>\n",
       "      <td>UEFA Nations League</td>\n",
       "      <td>Copenhagen</td>\n",
       "      <td>Denmark</td>\n",
       "      <td>False</td>\n",
       "    </tr>\n",
       "    <tr>\n",
       "      <th>41633</th>\n",
       "      <td>2020-09-08</td>\n",
       "      <td>France</td>\n",
       "      <td>Croatia</td>\n",
       "      <td>4</td>\n",
       "      <td>2</td>\n",
       "      <td>UEFA Nations League</td>\n",
       "      <td>Paris</td>\n",
       "      <td>France</td>\n",
       "      <td>False</td>\n",
       "    </tr>\n",
       "    <tr>\n",
       "      <th>41634</th>\n",
       "      <td>2020-09-08</td>\n",
       "      <td>Sweden</td>\n",
       "      <td>Portugal</td>\n",
       "      <td>0</td>\n",
       "      <td>2</td>\n",
       "      <td>UEFA Nations League</td>\n",
       "      <td>Stockholm</td>\n",
       "      <td>Sweden</td>\n",
       "      <td>False</td>\n",
       "    </tr>\n",
       "    <tr>\n",
       "      <th>41635</th>\n",
       "      <td>2020-09-08</td>\n",
       "      <td>Luxembourg</td>\n",
       "      <td>Montenegro</td>\n",
       "      <td>0</td>\n",
       "      <td>1</td>\n",
       "      <td>UEFA Nations League</td>\n",
       "      <td>Luxembourg City</td>\n",
       "      <td>Luxembourg</td>\n",
       "      <td>False</td>\n",
       "    </tr>\n",
       "    <tr>\n",
       "      <th>41636</th>\n",
       "      <td>2020-09-08</td>\n",
       "      <td>Cyprus</td>\n",
       "      <td>Azerbaijan</td>\n",
       "      <td>0</td>\n",
       "      <td>1</td>\n",
       "      <td>UEFA Nations League</td>\n",
       "      <td>Nicosia</td>\n",
       "      <td>Cyprus</td>\n",
       "      <td>False</td>\n",
       "    </tr>\n",
       "    <tr>\n",
       "      <th>41637</th>\n",
       "      <td>2020-09-08</td>\n",
       "      <td>Armenia</td>\n",
       "      <td>Estonia</td>\n",
       "      <td>2</td>\n",
       "      <td>0</td>\n",
       "      <td>UEFA Nations League</td>\n",
       "      <td>Yerevan</td>\n",
       "      <td>Armenia</td>\n",
       "      <td>False</td>\n",
       "    </tr>\n",
       "    <tr>\n",
       "      <th>41638</th>\n",
       "      <td>2020-09-08</td>\n",
       "      <td>Georgia</td>\n",
       "      <td>North Macedonia</td>\n",
       "      <td>1</td>\n",
       "      <td>1</td>\n",
       "      <td>UEFA Nations League</td>\n",
       "      <td>Tbilisi</td>\n",
       "      <td>Georgia</td>\n",
       "      <td>False</td>\n",
       "    </tr>\n",
       "    <tr>\n",
       "      <th>41639</th>\n",
       "      <td>2020-09-08</td>\n",
       "      <td>San Marino</td>\n",
       "      <td>Liechtenstein</td>\n",
       "      <td>0</td>\n",
       "      <td>2</td>\n",
       "      <td>UEFA Nations League</td>\n",
       "      <td>Rimini</td>\n",
       "      <td>Italy</td>\n",
       "      <td>True</td>\n",
       "    </tr>\n",
       "  </tbody>\n",
       "</table>\n",
       "</div>"
      ],
      "text/plain": [
       "             date   home_team        away_team  home_score  away_score  \\\n",
       "41630  2020-09-07     Albania        Lithuania           0           1   \n",
       "41631  2020-09-08     Belgium          Iceland           5           1   \n",
       "41632  2020-09-08     Denmark          England           0           0   \n",
       "41633  2020-09-08      France          Croatia           4           2   \n",
       "41634  2020-09-08      Sweden         Portugal           0           2   \n",
       "41635  2020-09-08  Luxembourg       Montenegro           0           1   \n",
       "41636  2020-09-08      Cyprus       Azerbaijan           0           1   \n",
       "41637  2020-09-08     Armenia          Estonia           2           0   \n",
       "41638  2020-09-08     Georgia  North Macedonia           1           1   \n",
       "41639  2020-09-08  San Marino    Liechtenstein           0           2   \n",
       "\n",
       "                tournament             city     country  neutral  \n",
       "41630  UEFA Nations League           Tirana     Albania    False  \n",
       "41631  UEFA Nations League         Brussels     Belgium    False  \n",
       "41632  UEFA Nations League       Copenhagen     Denmark    False  \n",
       "41633  UEFA Nations League            Paris      France    False  \n",
       "41634  UEFA Nations League        Stockholm      Sweden    False  \n",
       "41635  UEFA Nations League  Luxembourg City  Luxembourg    False  \n",
       "41636  UEFA Nations League          Nicosia      Cyprus    False  \n",
       "41637  UEFA Nations League          Yerevan     Armenia    False  \n",
       "41638  UEFA Nations League          Tbilisi     Georgia    False  \n",
       "41639  UEFA Nations League           Rimini       Italy     True  "
      ]
     },
     "execution_count": 18,
     "metadata": {},
     "output_type": "execute_result"
    }
   ],
   "source": [
    "sData = pd.read_csv('soccer.csv')\n",
    "sData.tail(10)"
   ]
  },
  {
   "cell_type": "code",
   "execution_count": 19,
   "id": "7b5fc1fa",
   "metadata": {},
   "outputs": [
    {
     "data": {
      "text/html": [
       "<div>\n",
       "<style scoped>\n",
       "    .dataframe tbody tr th:only-of-type {\n",
       "        vertical-align: middle;\n",
       "    }\n",
       "\n",
       "    .dataframe tbody tr th {\n",
       "        vertical-align: top;\n",
       "    }\n",
       "\n",
       "    .dataframe thead th {\n",
       "        text-align: right;\n",
       "    }\n",
       "</style>\n",
       "<table border=\"1\" class=\"dataframe\">\n",
       "  <thead>\n",
       "    <tr style=\"text-align: right;\">\n",
       "      <th></th>\n",
       "      <th>date</th>\n",
       "      <th>home_team</th>\n",
       "      <th>away_team</th>\n",
       "      <th>home_score</th>\n",
       "      <th>away_score</th>\n",
       "      <th>tournament</th>\n",
       "      <th>city</th>\n",
       "      <th>country</th>\n",
       "      <th>neutral</th>\n",
       "      <th>total_score</th>\n",
       "    </tr>\n",
       "  </thead>\n",
       "  <tbody>\n",
       "    <tr>\n",
       "      <th>0</th>\n",
       "      <td>1872-11-30</td>\n",
       "      <td>Scotland</td>\n",
       "      <td>England</td>\n",
       "      <td>0</td>\n",
       "      <td>0</td>\n",
       "      <td>Friendly</td>\n",
       "      <td>Glasgow</td>\n",
       "      <td>Scotland</td>\n",
       "      <td>False</td>\n",
       "      <td>0</td>\n",
       "    </tr>\n",
       "    <tr>\n",
       "      <th>1</th>\n",
       "      <td>1873-03-08</td>\n",
       "      <td>England</td>\n",
       "      <td>Scotland</td>\n",
       "      <td>4</td>\n",
       "      <td>2</td>\n",
       "      <td>Friendly</td>\n",
       "      <td>London</td>\n",
       "      <td>England</td>\n",
       "      <td>False</td>\n",
       "      <td>6</td>\n",
       "    </tr>\n",
       "    <tr>\n",
       "      <th>2</th>\n",
       "      <td>1874-03-07</td>\n",
       "      <td>Scotland</td>\n",
       "      <td>England</td>\n",
       "      <td>2</td>\n",
       "      <td>1</td>\n",
       "      <td>Friendly</td>\n",
       "      <td>Glasgow</td>\n",
       "      <td>Scotland</td>\n",
       "      <td>False</td>\n",
       "      <td>3</td>\n",
       "    </tr>\n",
       "    <tr>\n",
       "      <th>3</th>\n",
       "      <td>1875-03-06</td>\n",
       "      <td>England</td>\n",
       "      <td>Scotland</td>\n",
       "      <td>2</td>\n",
       "      <td>2</td>\n",
       "      <td>Friendly</td>\n",
       "      <td>London</td>\n",
       "      <td>England</td>\n",
       "      <td>False</td>\n",
       "      <td>4</td>\n",
       "    </tr>\n",
       "    <tr>\n",
       "      <th>4</th>\n",
       "      <td>1876-03-04</td>\n",
       "      <td>Scotland</td>\n",
       "      <td>England</td>\n",
       "      <td>3</td>\n",
       "      <td>0</td>\n",
       "      <td>Friendly</td>\n",
       "      <td>Glasgow</td>\n",
       "      <td>Scotland</td>\n",
       "      <td>False</td>\n",
       "      <td>3</td>\n",
       "    </tr>\n",
       "    <tr>\n",
       "      <th>5</th>\n",
       "      <td>1876-03-25</td>\n",
       "      <td>Scotland</td>\n",
       "      <td>Wales</td>\n",
       "      <td>4</td>\n",
       "      <td>0</td>\n",
       "      <td>Friendly</td>\n",
       "      <td>Glasgow</td>\n",
       "      <td>Scotland</td>\n",
       "      <td>False</td>\n",
       "      <td>4</td>\n",
       "    </tr>\n",
       "    <tr>\n",
       "      <th>6</th>\n",
       "      <td>1877-03-03</td>\n",
       "      <td>England</td>\n",
       "      <td>Scotland</td>\n",
       "      <td>1</td>\n",
       "      <td>3</td>\n",
       "      <td>Friendly</td>\n",
       "      <td>London</td>\n",
       "      <td>England</td>\n",
       "      <td>False</td>\n",
       "      <td>4</td>\n",
       "    </tr>\n",
       "    <tr>\n",
       "      <th>7</th>\n",
       "      <td>1877-03-05</td>\n",
       "      <td>Wales</td>\n",
       "      <td>Scotland</td>\n",
       "      <td>0</td>\n",
       "      <td>2</td>\n",
       "      <td>Friendly</td>\n",
       "      <td>Wrexham</td>\n",
       "      <td>Wales</td>\n",
       "      <td>False</td>\n",
       "      <td>2</td>\n",
       "    </tr>\n",
       "    <tr>\n",
       "      <th>8</th>\n",
       "      <td>1878-03-02</td>\n",
       "      <td>Scotland</td>\n",
       "      <td>England</td>\n",
       "      <td>7</td>\n",
       "      <td>2</td>\n",
       "      <td>Friendly</td>\n",
       "      <td>Glasgow</td>\n",
       "      <td>Scotland</td>\n",
       "      <td>False</td>\n",
       "      <td>9</td>\n",
       "    </tr>\n",
       "    <tr>\n",
       "      <th>9</th>\n",
       "      <td>1878-03-23</td>\n",
       "      <td>Scotland</td>\n",
       "      <td>Wales</td>\n",
       "      <td>9</td>\n",
       "      <td>0</td>\n",
       "      <td>Friendly</td>\n",
       "      <td>Glasgow</td>\n",
       "      <td>Scotland</td>\n",
       "      <td>False</td>\n",
       "      <td>9</td>\n",
       "    </tr>\n",
       "  </tbody>\n",
       "</table>\n",
       "</div>"
      ],
      "text/plain": [
       "         date home_team away_team  home_score  away_score tournament     city  \\\n",
       "0  1872-11-30  Scotland   England           0           0   Friendly  Glasgow   \n",
       "1  1873-03-08   England  Scotland           4           2   Friendly   London   \n",
       "2  1874-03-07  Scotland   England           2           1   Friendly  Glasgow   \n",
       "3  1875-03-06   England  Scotland           2           2   Friendly   London   \n",
       "4  1876-03-04  Scotland   England           3           0   Friendly  Glasgow   \n",
       "5  1876-03-25  Scotland     Wales           4           0   Friendly  Glasgow   \n",
       "6  1877-03-03   England  Scotland           1           3   Friendly   London   \n",
       "7  1877-03-05     Wales  Scotland           0           2   Friendly  Wrexham   \n",
       "8  1878-03-02  Scotland   England           7           2   Friendly  Glasgow   \n",
       "9  1878-03-23  Scotland     Wales           9           0   Friendly  Glasgow   \n",
       "\n",
       "    country  neutral  total_score  \n",
       "0  Scotland    False            0  \n",
       "1   England    False            6  \n",
       "2  Scotland    False            3  \n",
       "3   England    False            4  \n",
       "4  Scotland    False            3  \n",
       "5  Scotland    False            4  \n",
       "6   England    False            4  \n",
       "7     Wales    False            2  \n",
       "8  Scotland    False            9  \n",
       "9  Scotland    False            9  "
      ]
     },
     "execution_count": 19,
     "metadata": {},
     "output_type": "execute_result"
    }
   ],
   "source": [
    "sData['total_score'] = sData['home_score'] + sData['away_score']\n",
    "sData.head(10)"
   ]
  },
  {
   "cell_type": "code",
   "execution_count": 20,
   "id": "702997bd",
   "metadata": {},
   "outputs": [],
   "source": [
    "scount, sdevision = np.histogram(sData['total_score'],\n",
    "                                 bins=100)"
   ]
  },
  {
   "cell_type": "code",
   "execution_count": 21,
   "id": "97640123",
   "metadata": {},
   "outputs": [],
   "source": [
    "isData = st.norm.rvs(size=len(sData['total_score']),\n",
    "                     loc=sData['total_score'].mean(),\n",
    "                     scale=sData['total_score'].std())\n",
    "iscount, isdvesion = np.histogram(isData,\n",
    "                                  bins=100)"
   ]
  },
  {
   "cell_type": "code",
   "execution_count": 22,
   "id": "a94fa4a2",
   "metadata": {},
   "outputs": [
    {
     "data": {
      "text/plain": [
       "0.9973777233278861"
      ]
     },
     "execution_count": 22,
     "metadata": {},
     "output_type": "execute_result"
    }
   ],
   "source": [
    "js(scount,iscount)"
   ]
  },
  {
   "cell_type": "code",
   "execution_count": 23,
   "id": "e49738d8",
   "metadata": {},
   "outputs": [
    {
     "data": {
      "text/plain": [
       "[<matplotlib.lines.Line2D at 0x1cc728f9f70>]"
      ]
     },
     "execution_count": 23,
     "metadata": {},
     "output_type": "execute_result"
    },
    {
     "data": {
      "image/png": "[encoded data removed]",
      "text/plain": [
       "<Figure size 432x288 with 1 Axes>"
      ]
     },
     "metadata": {
      "needs_background": "light"
     },
     "output_type": "display_data"
    }
   ],
   "source": [
    "plt.plot(scount,\n",
    "         color='red')\n",
    "plt.plot(iscount,\n",
    "         color='blue')"
   ]
  },
  {
   "cell_type": "code",
   "execution_count": 24,
   "id": "1dbccdc2",
   "metadata": {},
   "outputs": [
    {
     "data": {
      "text/plain": [
       "[<matplotlib.lines.Line2D at 0x1cc7295ff40>]"
      ]
     },
     "execution_count": 24,
     "metadata": {},
     "output_type": "execute_result"
    },
    {
     "data": {
      "image/png": "[encoded data removed]",
      "text/plain": [
       "<Figure size 432x288 with 1 Axes>"
      ]
     },
     "metadata": {
      "needs_background": "light"
     },
     "output_type": "display_data"
    }
   ],
   "source": [
    "plt.plot(sData['total_score'],\n",
    "         color='red')\n",
    "plt.plot(isData,\n",
    "         color='blue')"
   ]
  },
  {
   "cell_type": "code",
   "execution_count": 25,
   "id": "d7c18d22",
   "metadata": {},
   "outputs": [],
   "source": [
    "psData = st.distributions.poisson.rvs(size=len(sData['total_score']),\n",
    "                                  mu=sData['total_score'].mean())\n",
    "pscount, pddevision = np.histogram(psData,\n",
    "                                   bins=100)"
   ]
  },
  {
   "cell_type": "code",
   "execution_count": 26,
   "id": "a823de90",
   "metadata": {},
   "outputs": [
    {
     "data": {
      "text/plain": [
       "0.7811453926819074"
      ]
     },
     "execution_count": 26,
     "metadata": {},
     "output_type": "execute_result"
    }
   ],
   "source": [
    "js(scount,pscount)"
   ]
  },
  {
   "cell_type": "code",
   "execution_count": 27,
   "id": "29577f4a",
   "metadata": {},
   "outputs": [],
   "source": [
    "usData = st.uniform.rvs(size=len(sData['total_score']),\n",
    "                        loc=sData['total_score'].mean(),\n",
    "                       scale=sData['total_score'].std())\n",
    "uscount, usdevesion = np.histogram(usData,\n",
    "                                   bins=100)"
   ]
  },
  {
   "cell_type": "code",
   "execution_count": 28,
   "id": "7fd17a84",
   "metadata": {},
   "outputs": [
    {
     "data": {
      "text/plain": [
       "0.7676746828688514"
      ]
     },
     "execution_count": 28,
     "metadata": {},
     "output_type": "execute_result"
    }
   ],
   "source": [
    "js(scount,uscount)"
   ]
  },
  {
   "cell_type": "code",
   "execution_count": 30,
   "id": "53dcacac",
   "metadata": {},
   "outputs": [
    {
     "data": {
      "text/plain": [
       "[<matplotlib.lines.Line2D at 0x1cc79a73790>]"
      ]
     },
     "execution_count": 30,
     "metadata": {},
     "output_type": "execute_result"
    },
    {
     "data": {
      "image/png": "[encoded data removed]",
      "text/plain": [
       "<Figure size 432x288 with 1 Axes>"
      ]
     },
     "metadata": {
      "needs_background": "light"
     },
     "output_type": "display_data"
    }
   ],
   "source": [
    "plt.plot(sData['total_score'],\n",
    "         color='red')\n",
    "plt.plot(usData,\n",
    "        color='blue')"
   ]
  },
  {
   "cell_type": "code",
   "execution_count": null,
   "id": "0050860c",
   "metadata": {},
   "outputs": [],
   "source": []
  }
 ],
 "metadata": {
  "kernelspec": {
   "display_name": "Python 3 (ipykernel)",
   "language": "python",
   "name": "python3"
  },
  "language_info": {
   "codemirror_mode": {
    "name": "ipython",
    "version": 3
   },
   "file_extension": ".py",
   "mimetype": "text/x-python",
   "name": "python",
   "nbconvert_exporter": "python",
   "pygments_lexer": "ipython3",
   "version": "3.9.12"
  }
 },
 "nbformat": 4,
 "nbformat_minor": 5
}
