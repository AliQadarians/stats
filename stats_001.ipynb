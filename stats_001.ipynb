{
 "cells": [
  {
   "cell_type": "code",
   "execution_count": 26,
   "id": "97e56f9e",
   "metadata": {},
   "outputs": [],
   "source": [
    "import pandas as pd\n",
    "from scipy import stats\n"
   ]
  },
  {
   "cell_type": "code",
   "execution_count": 4,
   "id": "f410e01c",
   "metadata": {},
   "outputs": [],
   "source": [
    "df = pd.read_csv('flights.csv').dropna()\n",
    "df1 = pd.read_csv('flights.csv')\n"
   ]
  },
  {
   "cell_type": "code",
   "execution_count": 5,
   "id": "6a181a79",
   "metadata": {},
   "outputs": [
    {
     "data": {
      "text/plain": [
       "6.89537675731489"
      ]
     },
     "execution_count": 5,
     "metadata": {},
     "output_type": "execute_result"
    }
   ],
   "source": [
    "df['arr_delay'].mean()"
   ]
  },
  {
   "cell_type": "code",
   "execution_count": 6,
   "id": "f851647f",
   "metadata": {},
   "outputs": [
    {
     "data": {
      "text/plain": [
       "6.89537675731489"
      ]
     },
     "execution_count": 6,
     "metadata": {},
     "output_type": "execute_result"
    }
   ],
   "source": [
    "df1['arr_delay'].mean()"
   ]
  },
  {
   "cell_type": "code",
   "execution_count": 11,
   "id": "f1308b49",
   "metadata": {},
   "outputs": [
    {
     "data": {
      "text/plain": [
       "199668     -86.0\n",
       "211124     -79.0\n",
       "198763     -75.0\n",
       "195236     -75.0\n",
       "196935     -74.0\n",
       "           ...  \n",
       "270376     989.0\n",
       "327043    1007.0\n",
       "8239      1109.0\n",
       "235778    1127.0\n",
       "7072      1272.0\n",
       "Name: arr_delay, Length: 327346, dtype: float64"
      ]
     },
     "execution_count": 11,
     "metadata": {},
     "output_type": "execute_result"
    }
   ],
   "source": [
    "df['arr_delay'].sort_values()"
   ]
  },
  {
   "cell_type": "code",
   "execution_count": 14,
   "id": "4ac6ea98",
   "metadata": {},
   "outputs": [
    {
     "data": {
      "text/plain": [
       "0.9612355338465307"
      ]
     },
     "execution_count": 14,
     "metadata": {},
     "output_type": "execute_result"
    }
   ],
   "source": [
    "stats.trim_mean(df1['arr_delay'],0.1)"
   ]
  },
  {
   "cell_type": "code",
   "execution_count": 15,
   "id": "56b5d295",
   "metadata": {},
   "outputs": [
    {
     "data": {
      "text/plain": [
       "-1.0312244632997045"
      ]
     },
     "execution_count": 15,
     "metadata": {},
     "output_type": "execute_result"
    }
   ],
   "source": [
    "stats.trim_mean(df['arr_delay'],0.1)"
   ]
  },
  {
   "cell_type": "code",
   "execution_count": 16,
   "id": "37192160",
   "metadata": {},
   "outputs": [
    {
     "data": {
      "text/plain": [
       "44.63329169019526"
      ]
     },
     "execution_count": 16,
     "metadata": {},
     "output_type": "execute_result"
    }
   ],
   "source": [
    "df1['arr_delay'].std()"
   ]
  },
  {
   "cell_type": "code",
   "execution_count": 17,
   "id": "9a3ceead",
   "metadata": {},
   "outputs": [
    {
     "data": {
      "text/plain": [
       "44.63329169019526"
      ]
     },
     "execution_count": 17,
     "metadata": {},
     "output_type": "execute_result"
    }
   ],
   "source": [
    "df['arr_delay'].std()"
   ]
  },
  {
   "cell_type": "code",
   "execution_count": 18,
   "id": "ef52c93e",
   "metadata": {},
   "outputs": [
    {
     "data": {
      "text/plain": [
       "-5.0"
      ]
     },
     "execution_count": 18,
     "metadata": {},
     "output_type": "execute_result"
    }
   ],
   "source": [
    "df['arr_delay'].median()"
   ]
  },
  {
   "cell_type": "code",
   "execution_count": 20,
   "id": "9a23bf78",
   "metadata": {},
   "outputs": [
    {
     "data": {
      "text/plain": [
       "-5.0"
      ]
     },
     "execution_count": 20,
     "metadata": {},
     "output_type": "execute_result"
    }
   ],
   "source": [
    "df1['arr_delay'].median()"
   ]
  },
  {
   "cell_type": "code",
   "execution_count": 21,
   "id": "ad9b7429",
   "metadata": {},
   "outputs": [
    {
     "data": {
      "text/plain": [
       "0   -13.0\n",
       "Name: arr_delay, dtype: float64"
      ]
     },
     "execution_count": 21,
     "metadata": {},
     "output_type": "execute_result"
    }
   ],
   "source": [
    "df['arr_delay'].mode()"
   ]
  },
  {
   "cell_type": "code",
   "execution_count": 38,
   "id": "d3715ffd",
   "metadata": {},
   "outputs": [
    {
     "data": {
      "text/plain": [
       "<AxesSubplot:>"
      ]
     },
     "execution_count": 38,
     "metadata": {},
     "output_type": "execute_result"
    },
    {
     "data": {
      "image/png": "[encoded data removed]",
      "text/plain": [
       "<Figure size 432x288 with 1 Axes>"
      ]
     },
     "metadata": {
      "needs_background": "light"
     },
     "output_type": "display_data"
    }
   ],
   "source": [
    "df1['arr_delay'] [df1['arr_delay'] < 60].hist(bins=50)"
   ]
  },
  {
   "cell_type": "code",
   "execution_count": null,
   "id": "704e03eb",
   "metadata": {},
   "outputs": [],
   "source": []
  }
 ],
 "metadata": {
  "kernelspec": {
   "display_name": "Python 3 (ipykernel)",
   "language": "python",
   "name": "python3"
  },
  "language_info": {
   "codemirror_mode": {
    "name": "ipython",
    "version": 3
   },
   "file_extension": ".py",
   "mimetype": "text/x-python",
   "name": "python",
   "nbconvert_exporter": "python",
   "pygments_lexer": "ipython3",
   "version": "3.9.12"
  }
 },
 "nbformat": 4,
 "nbformat_minor": 5
}
